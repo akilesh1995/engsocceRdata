{
 "cells": [
  {
   "cell_type": "code",
   "execution_count": 1,
   "metadata": {
    "collapsed": false,
    "scrolled": true
   },
   "outputs": [
    {
     "name": "stderr",
     "output_type": "stream",
     "text": [
      "Warning message:\n",
      "“package ‘engsoccerdata’ was built under R version 3.3.2”\n",
      "Attaching package: ‘dplyr’\n",
      "\n",
      "The following objects are masked from ‘package:stats’:\n",
      "\n",
      "    filter, lag\n",
      "\n",
      "The following objects are masked from ‘package:base’:\n",
      "\n",
      "    intersect, setdiff, setequal, union\n",
      "\n",
      "\n",
      "Attaching package: ‘gridExtra’\n",
      "\n",
      "The following object is masked from ‘package:dplyr’:\n",
      "\n",
      "    combine\n",
      "\n"
     ]
    }
   ],
   "source": [
    "library(engsoccerdata)\n",
    "library(dplyr)\n",
    "library(ggplot2)\n",
    "library(gridExtra)\n",
    "options(repr.plot.width=5, repr.plot.height=5)"
   ]
  },
  {
   "cell_type": "code",
   "execution_count": 2,
   "metadata": {
    "collapsed": false
   },
   "outputs": [
    {
     "name": "stdout",
     "output_type": "stream",
     "text": [
      "                  result matches\n",
      "1           Arsenal Wins       5\n",
      "2 Manchester United Wins      10\n",
      "3                   Draw       5\n"
     ]
    }
   ],
   "source": [
    "#FUNCTION -- summarybetweenteamsengland:: used to find the number of wins, losses and draws between any 2 teams\n",
    "#between any yearly time period \n",
    "winLossDraw <- function(df,team1,team2,year1,year2,type = \"summary\"){\n",
    "    df_team1_team2 <- games_between(df,teamname1 = team1,teamname2 = team2)\n",
    "    df_team1_team2_yearly <- df_team1_team2 %>%\n",
    "    filter(Season >= year1 & Season <= year2) %>% \n",
    "    mutate(homegoals = substr(FT,1,1)) %>% \n",
    "    mutate(awaygoals = substr(FT,3,3)) %>%\n",
    "    mutate(winner = ifelse(  home == team1,\n",
    "                             ifelse(homegoals > awaygoals,\n",
    "                                   team1,ifelse(homegoals == awaygoals,\n",
    "                                                   \"Draw\",team2)),\n",
    "                             ifelse(homegoals > awaygoals,\n",
    "                                   team2,ifelse(homegoals == awaygoals,\n",
    "                                                             \"Draw\",team1))))\n",
    "    ifelse(type == \"summary\",\n",
    "           return(data.frame(result = c(paste(team1,\"Wins\"),paste(team2,\"Wins\"),\"Draw\"),\n",
    "                      matches = c(sum((df_team1_team2_yearly$winner == team1) == TRUE),\n",
    "                                  sum((df_team1_team2_yearly$winner == team2) == TRUE),\n",
    "                                  sum((df_team1_team2_yearly$winner == \"Draw\") == TRUE)))),\n",
    "           return(df_team1_team2_yearly))\n",
    "}\n",
    "x <- winLossDraw(england,team1 = \"Arsenal\",team2 = \"Manchester United\",year1 = 2006,year2 = 2016,type = \"summary\")\n",
    "print(x)"
   ]
  },
  {
   "cell_type": "code",
   "execution_count": 3,
   "metadata": {
    "collapsed": false
   },
   "outputs": [
    {
     "name": "stdout",
     "output_type": "stream",
     "text": [
      "               result matches\n",
      "1        Arsenal Wins       4\n",
      "2        Chelsea Wins      11\n",
      "3                Draw       5\n",
      "4   Arsenal Home Wins       2\n",
      "5   Chelsea Home Wins       7\n",
      "6   Arsenal Away Wins       2\n",
      "7   Chelsea Away Wins       4\n",
      "8  Arsenal Home Draws       4\n",
      "9  Chelsea Home Draws       1\n",
      "10 Arsenal Away Draws       1\n",
      "11 Chelsea Away Draws       4\n"
     ]
    }
   ],
   "source": [
    "#FUNCTION -- winLossDrawHomeAway:: Used to find wins, losses, draws both overall & home and away for any 2 teams\n",
    "#between any specific time period\n",
    "winLossDrawHomeAway <- function(df,team1,team2,year1,year2,type = \"summary\"){\n",
    "    df_win_loss <- winLossDraw(england,team1 = team1,team2 = team2,year1 = year1,year2 = year2,type = \"dataframe\")\n",
    "    df_res <- winLossDraw(england,team1 = team1,team2 = team2,year1 = year1,year2 = year2,type = \"summary\")\n",
    "    #print(df_res)\n",
    "    t1_h <- sum((df_win_loss$winner == team1 & df_win_loss$home == team1) == TRUE)\n",
    "    t2_h <- sum((df_win_loss$winner == team2 & df_win_loss$home == team2) == TRUE)\n",
    "    t1_a <- sum((df_win_loss$winner == team1 & df_win_loss$visitor == team1) == TRUE)\n",
    "    t2_a <- sum((df_win_loss$winner == team2 & df_win_loss$visitor == team2) == TRUE)\n",
    "    t1_hd <- sum((df_win_loss$winner == \"Draw\" & df_win_loss$home == team1) == TRUE)\n",
    "    t2_hd <- sum((df_win_loss$winner == \"Draw\" & df_win_loss$home == team2) == TRUE)\n",
    "    t1_ad <- t2_hd\n",
    "    t2_ad <- t1_hd\n",
    "    return(rbind(df_res,data.frame(result = c(paste(team1,\"Home Wins\"),paste(team2,\"Home Wins\"),\n",
    "                                              paste(team1,\"Away Wins\"),paste(team2,\"Away Wins\"),\n",
    "                                             paste(team1,\"Home Draws\"),paste(team2,\"Home Draws\"),\n",
    "                                             paste(team1,\"Away Draws\"),paste(team2,\"Away Draws\")),\n",
    "                                   matches = c(t1_h,t2_h,t1_a,t2_a,t1_hd,t2_hd,t1_ad,t2_ad))))\n",
    "}\n",
    "x <- winLossDrawHomeAway(england,\"Arsenal\",\"Chelsea\",\"2006\",\"2015\")\n",
    "print(x)"
   ]
  },
  {
   "cell_type": "code",
   "execution_count": 4,
   "metadata": {
    "collapsed": false
   },
   "outputs": [
    {
     "data": {
      "text/html": [
       "2.5"
      ],
      "text/latex": [
       "2.5"
      ],
      "text/markdown": [
       "2.5"
      ],
      "text/plain": [
       "[1] 2.5"
      ]
     },
     "metadata": {},
     "output_type": "display_data"
    }
   ],
   "source": [
    "#FUNCTION -- querying records of teams against the bottom n teams in the league; returns points per game\n",
    "bottomNheadtoheadEngland <- function(team,season,bottomn=5,tier=1,type = \"points\"){\n",
    "    df_table <- maketable_eng(df = england,Season = season,tier = tier)\n",
    "    bottom <- as.character(tail(df_table$team,bottomn))\n",
    "    #ifelse(team %in% bottom,print(\"Team is already part of bottom 6, so record against other 5 teams is considered\"),\"\")\n",
    "    df_results <- tbl_df(england %>% filter(Season == season & tier == tier))\n",
    "    df_results_top_bottom <- df_results %>% filter((home %in% team & visitor %in% bottom) | \n",
    "                                                    (home %in% bottom & visitor %in% team)) %>% \n",
    "    mutate(points = ifelse(hgoal == vgoal,1,ifelse(hgoal > vgoal & home %in% team,3,\n",
    "                                               ifelse(hgoal < vgoal & home %in% team,0,\n",
    "                                                      ifelse(vgoal > hgoal & visitor %in% team,3,0)))))\n",
    "    res_df <- df_results_top_bottom %>% filter(home == team | visitor == team)\n",
    "    sum <- sum(res_df$points/\n",
    "              length(res_df$points))\n",
    "    ifelse(type == \"points\",return(sum),return(res_df))\n",
    "}\n",
    "pts <- bottomNheadtoheadEngland(\"Manchester City\",2015,bottomn=6)\n",
    "pts"
   ]
  },
  {
   "cell_type": "code",
   "execution_count": 5,
   "metadata": {
    "collapsed": false
   },
   "outputs": [
    {
     "data": {
      "text/html": [
       "1.33333333333333"
      ],
      "text/latex": [
       "1.33333333333333"
      ],
      "text/markdown": [
       "1.33333333333333"
      ],
      "text/plain": [
       "[1] 1.333333"
      ]
     },
     "metadata": {},
     "output_type": "display_data"
    }
   ],
   "source": [
    "#FUNCTION -- querying records of teams against the top n teams in the league; returns points per game\n",
    "topNheadtoheadEngland <- function(team,season,topn=5,tier=1,type = \"points\"){\n",
    "    df_table <- maketable_eng(df = england,Season = season,tier = tier)\n",
    "    top <- as.character(head(df_table$team,topn))\n",
    "    #ifelse(team %in% top,print(\"Team is already part of top 6, so record against other 5 teams is considered\"),\"\")\n",
    "    df_results <- tbl_df(england %>% filter(Season == season & tier == tier))\n",
    "    df_results_top_top <- df_results %>% filter((home %in% team & visitor %in% top) | \n",
    "                                               home %in% top & visitor %in% team) %>% \n",
    "    mutate(points = ifelse(hgoal == vgoal,1,ifelse(hgoal > vgoal & home %in% team,3,\n",
    "                                               ifelse(hgoal < vgoal & home %in% team,0,\n",
    "                                                      ifelse(vgoal > hgoal & visitor %in% team,3,0)))))\n",
    "    sum <- sum((df_results_top_top %>% filter(home == team | visitor == team))$points/\n",
    "               length((df_results_top_top %>% filter(home == team | visitor == team))$points))\n",
    "    res_df <- df_results_top_top %>% filter(home == team | visitor == team)\n",
    "    ifelse(type == \"points\",return(sum),return(res_df))\n",
    "}\n",
    "pts <- topNheadtoheadEngland(\"Liverpool\",2015,topn=10)\n",
    "pts"
   ]
  },
  {
   "cell_type": "code",
   "execution_count": 6,
   "metadata": {
    "collapsed": false
   },
   "outputs": [
    {
     "data": {
      "text/html": [
       "<ol class=list-inline>\n",
       "\t<li>'Leicester City'</li>\n",
       "\t<li>'Arsenal'</li>\n",
       "\t<li>'Tottenham Hotspur'</li>\n",
       "\t<li>'Manchester City'</li>\n",
       "\t<li>'Manchester United'</li>\n",
       "</ol>\n"
      ],
      "text/latex": [
       "\\begin{enumerate*}\n",
       "\\item 'Leicester City'\n",
       "\\item 'Arsenal'\n",
       "\\item 'Tottenham Hotspur'\n",
       "\\item 'Manchester City'\n",
       "\\item 'Manchester United'\n",
       "\\end{enumerate*}\n"
      ],
      "text/markdown": [
       "1. 'Leicester City'\n",
       "2. 'Arsenal'\n",
       "3. 'Tottenham Hotspur'\n",
       "4. 'Manchester City'\n",
       "5. 'Manchester United'\n",
       "\n",
       "\n"
      ],
      "text/plain": [
       "[1] \"Leicester City\"    \"Arsenal\"           \"Tottenham Hotspur\"\n",
       "[4] \"Manchester City\"   \"Manchester United\""
      ]
     },
     "metadata": {},
     "output_type": "display_data"
    },
    {
     "data": {
      "text/html": [
       "<ol class=list-inline>\n",
       "\t<li>'AFC Bournemouth'</li>\n",
       "\t<li>'Sunderland'</li>\n",
       "\t<li>'Newcastle United'</li>\n",
       "\t<li>'Norwich City'</li>\n",
       "\t<li>'Aston Villa'</li>\n",
       "</ol>\n"
      ],
      "text/latex": [
       "\\begin{enumerate*}\n",
       "\\item 'AFC Bournemouth'\n",
       "\\item 'Sunderland'\n",
       "\\item 'Newcastle United'\n",
       "\\item 'Norwich City'\n",
       "\\item 'Aston Villa'\n",
       "\\end{enumerate*}\n"
      ],
      "text/markdown": [
       "1. 'AFC Bournemouth'\n",
       "2. 'Sunderland'\n",
       "3. 'Newcastle United'\n",
       "4. 'Norwich City'\n",
       "5. 'Aston Villa'\n",
       "\n",
       "\n"
      ],
      "text/plain": [
       "[1] \"AFC Bournemouth\"  \"Sunderland\"       \"Newcastle United\" \"Norwich City\"    \n",
       "[5] \"Aston Villa\"     "
      ]
     },
     "metadata": {},
     "output_type": "display_data"
    }
   ],
   "source": [
    "#FUNCTION -- getting the top n teams for any particular season in the english league\n",
    "getTopNEngland <- function(n,season,tier = 1){\n",
    "    df_table <- maketable_eng(df = england,Season = season,tier = tier)\n",
    "    return(as.character(head(df_table$team,n)))\n",
    "}\n",
    "topn <- getTopNEngland(5,2015)\n",
    "topn\n",
    "\n",
    "#FUNCTION -- getting the bottom n teams for any particular season in the english league\n",
    "getBottomNEngland <- function(n,season,tier = 1){\n",
    "    df_table <- maketable_eng(df = england,Season = season,tier = tier)\n",
    "    return(as.character(tail(df_table$team,n)))\n",
    "}\n",
    "bottomn <- getBottomNEngland(5,2015)\n",
    "bottomn"
   ]
  },
  {
   "cell_type": "code",
   "execution_count": 7,
   "metadata": {
    "collapsed": false,
    "scrolled": true
   },
   "outputs": [
    {
     "data": {
      "text/html": [
       "<table>\n",
       "<thead><tr><th></th><th scope=col>season</th><th scope=col>position</th><th scope=col>team</th><th scope=col>PPGT</th><th scope=col>PPGB</th></tr></thead>\n",
       "<tbody>\n",
       "\t<tr><th scope=row>1</th><td>1992             </td><td>1                </td><td>Manchester United</td><td>1.94444444444444 </td><td>2.1              </td></tr>\n",
       "\t<tr><th scope=row>2</th><td>1992            </td><td>2               </td><td>Aston Villa     </td><td>1.77777777777778</td><td>1.65            </td></tr>\n",
       "\t<tr><th scope=row>3</th><td>1992            </td><td>3               </td><td>Norwich City    </td><td>1.33333333333333</td><td>1.95            </td></tr>\n",
       "\t<tr><th scope=row>4</th><td>1992            </td><td>4               </td><td>Blackburn Rovers</td><td>1.88888888888889</td><td>1.55            </td></tr>\n",
       "\t<tr><th scope=row>5</th><td>1993             </td><td>1                </td><td>Manchester United</td><td>2                </td><td>2.4              </td></tr>\n",
       "\t<tr><th scope=row>6</th><td>1993            </td><td>2               </td><td>Blackburn Rovers</td><td>1.83333333333333</td><td>2.35            </td></tr>\n",
       "\t<tr><th scope=row>7</th><td>1993            </td><td>3               </td><td>Newcastle United</td><td>1.77777777777778</td><td>1.8             </td></tr>\n",
       "\t<tr><th scope=row>8</th><td>1993            </td><td>4               </td><td>Arsenal         </td><td>1.66666666666667</td><td>1.95            </td></tr>\n",
       "\t<tr><th scope=row>9</th><td>1994            </td><td>1               </td><td>Blackburn Rovers</td><td>1.88888888888889</td><td>2.25            </td></tr>\n",
       "\t<tr><th scope=row>10</th><td>1994             </td><td>2                </td><td>Manchester United</td><td>1.94444444444444 </td><td>2.25             </td></tr>\n",
       "\t<tr><th scope=row>11</th><td>1994             </td><td>3                </td><td>Nottingham Forest</td><td>1.38888888888889 </td><td>2.4              </td></tr>\n",
       "\t<tr><th scope=row>12</th><td>1994            </td><td>4               </td><td>Liverpool       </td><td>1.66666666666667</td><td>1.7             </td></tr>\n",
       "\t<tr><th scope=row>13</th><td>1995             </td><td>1                </td><td>Manchester United</td><td>2                </td><td>2.3              </td></tr>\n",
       "\t<tr><th scope=row>14</th><td>1995            </td><td>2               </td><td>Newcastle United</td><td>1.55555555555556</td><td>2.5             </td></tr>\n",
       "\t<tr><th scope=row>15</th><td>1995            </td><td>3               </td><td>Liverpool       </td><td>1.94444444444444</td><td>1.8             </td></tr>\n",
       "\t<tr><th scope=row>16</th><td>1995            </td><td>4               </td><td>Aston Villa     </td><td>1.38888888888889</td><td>1.9             </td></tr>\n",
       "\t<tr><th scope=row>17</th><td>1996             </td><td>1                </td><td>Manchester United</td><td>2                </td><td>1.95             </td></tr>\n",
       "\t<tr><th scope=row>18</th><td>1996            </td><td>2               </td><td>Newcastle United</td><td>1.66666666666667</td><td>1.9             </td></tr>\n",
       "\t<tr><th scope=row>19</th><td>1996            </td><td>3               </td><td>Arsenal         </td><td>1.33333333333333</td><td>2.2             </td></tr>\n",
       "\t<tr><th scope=row>20</th><td>1996            </td><td>4               </td><td>Liverpool       </td><td>1.55555555555556</td><td>2               </td></tr>\n",
       "\t<tr><th scope=row>21</th><td>1997            </td><td>1               </td><td>Arsenal         </td><td>1.72222222222222</td><td>2.35            </td></tr>\n",
       "\t<tr><th scope=row>22</th><td>1997             </td><td>2                </td><td>Manchester United</td><td>1.77777777777778 </td><td>2.25             </td></tr>\n",
       "\t<tr><th scope=row>23</th><td>1997            </td><td>3               </td><td>Liverpool       </td><td>1.55555555555556</td><td>1.85            </td></tr>\n",
       "\t<tr><th scope=row>24</th><td>1997            </td><td>4               </td><td>Chelsea         </td><td>1.11111111111111</td><td>2.15            </td></tr>\n",
       "\t<tr><th scope=row>25</th><td>1998             </td><td>1                </td><td>Manchester United</td><td>1.66666666666667 </td><td>2.45             </td></tr>\n",
       "\t<tr><th scope=row>26</th><td>1998            </td><td>2               </td><td>Arsenal         </td><td>1.88888888888889</td><td>2.2             </td></tr>\n",
       "\t<tr><th scope=row>27</th><td>1998            </td><td>3               </td><td>Chelsea         </td><td>1.66666666666667</td><td>2.25            </td></tr>\n",
       "\t<tr><th scope=row>28</th><td>1998            </td><td>4               </td><td>Leeds United    </td><td>1.66666666666667</td><td>1.85            </td></tr>\n",
       "\t<tr><th scope=row>29</th><td>1999             </td><td>1                </td><td>Manchester United</td><td>2.33333333333333 </td><td>2.45             </td></tr>\n",
       "\t<tr><th scope=row>30</th><td>1999            </td><td>2               </td><td>Arsenal         </td><td>1.83333333333333</td><td>2               </td></tr>\n",
       "\t<tr><th scope=row>⋮</th><td>⋮</td><td>⋮</td><td>⋮</td><td>⋮</td><td>⋮</td></tr>\n",
       "\t<tr><th scope=row>67</th><td>2008   </td><td>3      </td><td>Chelsea</td><td>1.5    </td><td>2.8    </td></tr>\n",
       "\t<tr><th scope=row>68</th><td>2008            </td><td>4               </td><td>Arsenal         </td><td>1.33333333333333</td><td>2.4             </td></tr>\n",
       "\t<tr><th scope=row>69</th><td>2009            </td><td>1               </td><td>Chelsea         </td><td>1.83333333333333</td><td>2.65            </td></tr>\n",
       "\t<tr><th scope=row>70</th><td>2009             </td><td>2                </td><td>Manchester United</td><td>1.83333333333333 </td><td>2.6              </td></tr>\n",
       "\t<tr><th scope=row>71</th><td>2009            </td><td>3               </td><td>Arsenal         </td><td>1.38888888888889</td><td>2.5             </td></tr>\n",
       "\t<tr><th scope=row>72</th><td>2009             </td><td>4                </td><td>Tottenham Hotspur</td><td>1.72222222222222 </td><td>1.95             </td></tr>\n",
       "\t<tr><th scope=row>73</th><td>2010             </td><td>1                </td><td>Manchester United</td><td>1.83333333333333 </td><td>2.35             </td></tr>\n",
       "\t<tr><th scope=row>74</th><td>2010            </td><td>2               </td><td>Chelsea         </td><td>1.27777777777778</td><td>2.4             </td></tr>\n",
       "\t<tr><th scope=row>75</th><td>2010            </td><td>3               </td><td>Manchester City </td><td>1.22222222222222</td><td>2.45            </td></tr>\n",
       "\t<tr><th scope=row>76</th><td>2010            </td><td>4               </td><td>Arsenal         </td><td>1.55555555555556</td><td>2               </td></tr>\n",
       "\t<tr><th scope=row>77</th><td>2011            </td><td>1               </td><td>Manchester City </td><td>2.16666666666667</td><td>2.5             </td></tr>\n",
       "\t<tr><th scope=row>78</th><td>2011             </td><td>2                </td><td>Manchester United</td><td>2.05555555555556 </td><td>2.6              </td></tr>\n",
       "\t<tr><th scope=row>79</th><td>2011            </td><td>3               </td><td>Arsenal         </td><td>1.66666666666667</td><td>2               </td></tr>\n",
       "\t<tr><th scope=row>80</th><td>2011             </td><td>4                </td><td>Tottenham Hotspur</td><td>1.55555555555556 </td><td>2.05             </td></tr>\n",
       "\t<tr><th scope=row>81</th><td>2012             </td><td>1                </td><td>Manchester United</td><td>1.77777777777778 </td><td>2.85             </td></tr>\n",
       "\t<tr><th scope=row>82</th><td>2012            </td><td>2               </td><td>Manchester City </td><td>1.72222222222222</td><td>2.35            </td></tr>\n",
       "\t<tr><th scope=row>83</th><td>2012            </td><td>3               </td><td>Chelsea         </td><td>1.77777777777778</td><td>2.15            </td></tr>\n",
       "\t<tr><th scope=row>84</th><td>2012            </td><td>4               </td><td>Arsenal         </td><td>1.44444444444444</td><td>2.35            </td></tr>\n",
       "\t<tr><th scope=row>85</th><td>2013            </td><td>1               </td><td>Manchester City </td><td>2.16666666666667</td><td>2.35            </td></tr>\n",
       "\t<tr><th scope=row>86</th><td>2013            </td><td>2               </td><td>Liverpool       </td><td>1.94444444444444</td><td>2.45            </td></tr>\n",
       "\t<tr><th scope=row>87</th><td>2013            </td><td>3               </td><td>Chelsea         </td><td>2.16666666666667</td><td>2.15            </td></tr>\n",
       "\t<tr><th scope=row>88</th><td>2013            </td><td>4               </td><td>Arsenal         </td><td>1.44444444444444</td><td>2.65            </td></tr>\n",
       "\t<tr><th scope=row>89</th><td>2014            </td><td>1               </td><td>Chelsea         </td><td>2.05555555555556</td><td>2.5             </td></tr>\n",
       "\t<tr><th scope=row>90</th><td>2014            </td><td>2               </td><td>Manchester City </td><td>1.83333333333333</td><td>2.3             </td></tr>\n",
       "\t<tr><th scope=row>91</th><td>2014            </td><td>3               </td><td>Arsenal         </td><td>1.27777777777778</td><td>2.6             </td></tr>\n",
       "\t<tr><th scope=row>92</th><td>2014             </td><td>4                </td><td>Manchester United</td><td>1.72222222222222 </td><td>1.95             </td></tr>\n",
       "\t<tr><th scope=row>93</th><td>2015            </td><td>1               </td><td>Leicester City  </td><td>1.61111111111111</td><td>2.6             </td></tr>\n",
       "\t<tr><th scope=row>94</th><td>2015            </td><td>2               </td><td>Arsenal         </td><td>1.27777777777778</td><td>2.4             </td></tr>\n",
       "\t<tr><th scope=row>95</th><td>2015             </td><td>3                </td><td>Tottenham Hotspur</td><td>1.44444444444444 </td><td>2.2              </td></tr>\n",
       "\t<tr><th scope=row>96</th><td>2015             </td><td>4                </td><td>Manchester City  </td><td>0.888888888888889</td><td>2.5              </td></tr>\n",
       "</tbody>\n",
       "</table>\n"
      ],
      "text/latex": [
       "\\begin{tabular}{r|lllll}\n",
       "  & season & position & team & PPGT & PPGB\\\\\n",
       "\\hline\n",
       "\t1 & 1992              & 1                 & Manchester United & 1.94444444444444  & 2.1              \\\\\n",
       "\t2 & 1992             & 2                & Aston Villa      & 1.77777777777778 & 1.65            \\\\\n",
       "\t3 & 1992             & 3                & Norwich City     & 1.33333333333333 & 1.95            \\\\\n",
       "\t4 & 1992             & 4                & Blackburn Rovers & 1.88888888888889 & 1.55            \\\\\n",
       "\t5 & 1993              & 1                 & Manchester United & 2                 & 2.4              \\\\\n",
       "\t6 & 1993             & 2                & Blackburn Rovers & 1.83333333333333 & 2.35            \\\\\n",
       "\t7 & 1993             & 3                & Newcastle United & 1.77777777777778 & 1.8             \\\\\n",
       "\t8 & 1993             & 4                & Arsenal          & 1.66666666666667 & 1.95            \\\\\n",
       "\t9 & 1994             & 1                & Blackburn Rovers & 1.88888888888889 & 2.25            \\\\\n",
       "\t10 & 1994              & 2                 & Manchester United & 1.94444444444444  & 2.25             \\\\\n",
       "\t11 & 1994              & 3                 & Nottingham Forest & 1.38888888888889  & 2.4              \\\\\n",
       "\t12 & 1994             & 4                & Liverpool        & 1.66666666666667 & 1.7             \\\\\n",
       "\t13 & 1995              & 1                 & Manchester United & 2                 & 2.3              \\\\\n",
       "\t14 & 1995             & 2                & Newcastle United & 1.55555555555556 & 2.5             \\\\\n",
       "\t15 & 1995             & 3                & Liverpool        & 1.94444444444444 & 1.8             \\\\\n",
       "\t16 & 1995             & 4                & Aston Villa      & 1.38888888888889 & 1.9             \\\\\n",
       "\t17 & 1996              & 1                 & Manchester United & 2                 & 1.95             \\\\\n",
       "\t18 & 1996             & 2                & Newcastle United & 1.66666666666667 & 1.9             \\\\\n",
       "\t19 & 1996             & 3                & Arsenal          & 1.33333333333333 & 2.2             \\\\\n",
       "\t20 & 1996             & 4                & Liverpool        & 1.55555555555556 & 2               \\\\\n",
       "\t21 & 1997             & 1                & Arsenal          & 1.72222222222222 & 2.35            \\\\\n",
       "\t22 & 1997              & 2                 & Manchester United & 1.77777777777778  & 2.25             \\\\\n",
       "\t23 & 1997             & 3                & Liverpool        & 1.55555555555556 & 1.85            \\\\\n",
       "\t24 & 1997             & 4                & Chelsea          & 1.11111111111111 & 2.15            \\\\\n",
       "\t25 & 1998              & 1                 & Manchester United & 1.66666666666667  & 2.45             \\\\\n",
       "\t26 & 1998             & 2                & Arsenal          & 1.88888888888889 & 2.2             \\\\\n",
       "\t27 & 1998             & 3                & Chelsea          & 1.66666666666667 & 2.25            \\\\\n",
       "\t28 & 1998             & 4                & Leeds United     & 1.66666666666667 & 1.85            \\\\\n",
       "\t29 & 1999              & 1                 & Manchester United & 2.33333333333333  & 2.45             \\\\\n",
       "\t30 & 1999             & 2                & Arsenal          & 1.83333333333333 & 2               \\\\\n",
       "\t⋮ & ⋮ & ⋮ & ⋮ & ⋮ & ⋮\\\\\n",
       "\t67 & 2008    & 3       & Chelsea & 1.5     & 2.8    \\\\\n",
       "\t68 & 2008             & 4                & Arsenal          & 1.33333333333333 & 2.4             \\\\\n",
       "\t69 & 2009             & 1                & Chelsea          & 1.83333333333333 & 2.65            \\\\\n",
       "\t70 & 2009              & 2                 & Manchester United & 1.83333333333333  & 2.6              \\\\\n",
       "\t71 & 2009             & 3                & Arsenal          & 1.38888888888889 & 2.5             \\\\\n",
       "\t72 & 2009              & 4                 & Tottenham Hotspur & 1.72222222222222  & 1.95             \\\\\n",
       "\t73 & 2010              & 1                 & Manchester United & 1.83333333333333  & 2.35             \\\\\n",
       "\t74 & 2010             & 2                & Chelsea          & 1.27777777777778 & 2.4             \\\\\n",
       "\t75 & 2010             & 3                & Manchester City  & 1.22222222222222 & 2.45            \\\\\n",
       "\t76 & 2010             & 4                & Arsenal          & 1.55555555555556 & 2               \\\\\n",
       "\t77 & 2011             & 1                & Manchester City  & 2.16666666666667 & 2.5             \\\\\n",
       "\t78 & 2011              & 2                 & Manchester United & 2.05555555555556  & 2.6              \\\\\n",
       "\t79 & 2011             & 3                & Arsenal          & 1.66666666666667 & 2               \\\\\n",
       "\t80 & 2011              & 4                 & Tottenham Hotspur & 1.55555555555556  & 2.05             \\\\\n",
       "\t81 & 2012              & 1                 & Manchester United & 1.77777777777778  & 2.85             \\\\\n",
       "\t82 & 2012             & 2                & Manchester City  & 1.72222222222222 & 2.35            \\\\\n",
       "\t83 & 2012             & 3                & Chelsea          & 1.77777777777778 & 2.15            \\\\\n",
       "\t84 & 2012             & 4                & Arsenal          & 1.44444444444444 & 2.35            \\\\\n",
       "\t85 & 2013             & 1                & Manchester City  & 2.16666666666667 & 2.35            \\\\\n",
       "\t86 & 2013             & 2                & Liverpool        & 1.94444444444444 & 2.45            \\\\\n",
       "\t87 & 2013             & 3                & Chelsea          & 2.16666666666667 & 2.15            \\\\\n",
       "\t88 & 2013             & 4                & Arsenal          & 1.44444444444444 & 2.65            \\\\\n",
       "\t89 & 2014             & 1                & Chelsea          & 2.05555555555556 & 2.5             \\\\\n",
       "\t90 & 2014             & 2                & Manchester City  & 1.83333333333333 & 2.3             \\\\\n",
       "\t91 & 2014             & 3                & Arsenal          & 1.27777777777778 & 2.6             \\\\\n",
       "\t92 & 2014              & 4                 & Manchester United & 1.72222222222222  & 1.95             \\\\\n",
       "\t93 & 2015             & 1                & Leicester City   & 1.61111111111111 & 2.6             \\\\\n",
       "\t94 & 2015             & 2                & Arsenal          & 1.27777777777778 & 2.4             \\\\\n",
       "\t95 & 2015              & 3                 & Tottenham Hotspur & 1.44444444444444  & 2.2              \\\\\n",
       "\t96 & 2015              & 4                 & Manchester City   & 0.888888888888889 & 2.5              \\\\\n",
       "\\end{tabular}\n"
      ],
      "text/plain": [
       "   season position              team              PPGT PPGB\n",
       "1    1992        1 Manchester United  1.94444444444444  2.1\n",
       "2    1992        2       Aston Villa  1.77777777777778 1.65\n",
       "3    1992        3      Norwich City  1.33333333333333 1.95\n",
       "4    1992        4  Blackburn Rovers  1.88888888888889 1.55\n",
       "5    1993        1 Manchester United                 2  2.4\n",
       "6    1993        2  Blackburn Rovers  1.83333333333333 2.35\n",
       "7    1993        3  Newcastle United  1.77777777777778  1.8\n",
       "8    1993        4           Arsenal  1.66666666666667 1.95\n",
       "9    1994        1  Blackburn Rovers  1.88888888888889 2.25\n",
       "10   1994        2 Manchester United  1.94444444444444 2.25\n",
       "11   1994        3 Nottingham Forest  1.38888888888889  2.4\n",
       "12   1994        4         Liverpool  1.66666666666667  1.7\n",
       "13   1995        1 Manchester United                 2  2.3\n",
       "14   1995        2  Newcastle United  1.55555555555556  2.5\n",
       "15   1995        3         Liverpool  1.94444444444444  1.8\n",
       "16   1995        4       Aston Villa  1.38888888888889  1.9\n",
       "17   1996        1 Manchester United                 2 1.95\n",
       "18   1996        2  Newcastle United  1.66666666666667  1.9\n",
       "19   1996        3           Arsenal  1.33333333333333  2.2\n",
       "20   1996        4         Liverpool  1.55555555555556    2\n",
       "21   1997        1           Arsenal  1.72222222222222 2.35\n",
       "22   1997        2 Manchester United  1.77777777777778 2.25\n",
       "23   1997        3         Liverpool  1.55555555555556 1.85\n",
       "24   1997        4           Chelsea  1.11111111111111 2.15\n",
       "25   1998        1 Manchester United  1.66666666666667 2.45\n",
       "26   1998        2           Arsenal  1.88888888888889  2.2\n",
       "27   1998        3           Chelsea  1.66666666666667 2.25\n",
       "28   1998        4      Leeds United  1.66666666666667 1.85\n",
       "29   1999        1 Manchester United  2.33333333333333 2.45\n",
       "30   1999        2           Arsenal  1.83333333333333    2\n",
       "⋮       ⋮        ⋮                 ⋮                 ⋮    ⋮\n",
       "67   2008        3           Chelsea               1.5  2.8\n",
       "68   2008        4           Arsenal  1.33333333333333  2.4\n",
       "69   2009        1           Chelsea  1.83333333333333 2.65\n",
       "70   2009        2 Manchester United  1.83333333333333  2.6\n",
       "71   2009        3           Arsenal  1.38888888888889  2.5\n",
       "72   2009        4 Tottenham Hotspur  1.72222222222222 1.95\n",
       "73   2010        1 Manchester United  1.83333333333333 2.35\n",
       "74   2010        2           Chelsea  1.27777777777778  2.4\n",
       "75   2010        3   Manchester City  1.22222222222222 2.45\n",
       "76   2010        4           Arsenal  1.55555555555556    2\n",
       "77   2011        1   Manchester City  2.16666666666667  2.5\n",
       "78   2011        2 Manchester United  2.05555555555556  2.6\n",
       "79   2011        3           Arsenal  1.66666666666667    2\n",
       "80   2011        4 Tottenham Hotspur  1.55555555555556 2.05\n",
       "81   2012        1 Manchester United  1.77777777777778 2.85\n",
       "82   2012        2   Manchester City  1.72222222222222 2.35\n",
       "83   2012        3           Chelsea  1.77777777777778 2.15\n",
       "84   2012        4           Arsenal  1.44444444444444 2.35\n",
       "85   2013        1   Manchester City  2.16666666666667 2.35\n",
       "86   2013        2         Liverpool  1.94444444444444 2.45\n",
       "87   2013        3           Chelsea  2.16666666666667 2.15\n",
       "88   2013        4           Arsenal  1.44444444444444 2.65\n",
       "89   2014        1           Chelsea  2.05555555555556  2.5\n",
       "90   2014        2   Manchester City  1.83333333333333  2.3\n",
       "91   2014        3           Arsenal  1.27777777777778  2.6\n",
       "92   2014        4 Manchester United  1.72222222222222 1.95\n",
       "93   2015        1    Leicester City  1.61111111111111  2.6\n",
       "94   2015        2           Arsenal  1.27777777777778  2.4\n",
       "95   2015        3 Tottenham Hotspur  1.44444444444444  2.2\n",
       "96   2015        4   Manchester City 0.888888888888889  2.5"
      ]
     },
     "metadata": {},
     "output_type": "display_data"
    }
   ],
   "source": [
    "#FUNCTION -- for each team in the top 4, for each season, \n",
    "#returns points per game against top n and bottom n teams as entered by the user.\n",
    "top4PointPerGameTopAndBottomN <- function(season,topn,bottomn){\n",
    "    df_res <- data.frame(season = integer(0),position = integer(0), team = character(0),PPGT = numeric(0),\n",
    "                         PPGB = numeric(0))\n",
    "    for(s in season){\n",
    "        top4 <- getTopNEngland(4,s)\n",
    "        j = 1\n",
    "        for(i in top4){\n",
    "            #print(c(as.integer(s),as.numeric(j),as.character(i),as.numeric(topNheadtoheadEngland(i,s,6))))\n",
    "            df_temp <- data.frame(season = as.integer(s),position = as.integer(j),\n",
    "                                  team = i,PPGT = topNheadtoheadEngland(i,s,topn),\n",
    "                                 PPGB = bottomNheadtoheadEngland(i,s,bottomn))\n",
    "            #print(df_temp)\n",
    "            df_res <- rbind(df_res,df_temp)\n",
    "            #print(df_res)\n",
    "            j <- j+1\n",
    "        }\n",
    "    }\n",
    "    return(df_res)\n",
    "}\n",
    "df_res <-top4PointPerGameTopAndBottomN(seq(1992,2015),10,10)\n",
    "df_res"
   ]
  },
  {
   "cell_type": "code",
   "execution_count": 10,
   "metadata": {
    "collapsed": false,
    "scrolled": true
   },
   "outputs": [
    {
     "data": {
      "text/html": [
       "<table>\n",
       "<thead><tr><th></th><th scope=col>start</th><th scope=col>end</th><th scope=col>topn</th><th scope=col>bottomn</th><th scope=col>l_topn</th><th scope=col>l_bottomn</th></tr></thead>\n",
       "<tbody>\n",
       "\t<tr><th scope=row>1</th><td>1955.0000000</td><td>1964.0000000</td><td>   8.0000000</td><td>   5.0000000</td><td>   0.8888889</td><td>   0.5555556</td></tr>\n",
       "\t<tr><th scope=row>2</th><td>1965.0000000</td><td>1974.0000000</td><td>   4.0000000</td><td>   7.0000000</td><td>   0.4444444</td><td>   0.7777778</td></tr>\n",
       "\t<tr><th scope=row>3</th><td>1975.0000000</td><td>1984.0000000</td><td>   6.0000000</td><td>   5.0000000</td><td>   0.6666667</td><td>   0.5555556</td></tr>\n",
       "\t<tr><th scope=row>4</th><td>1985.0000000</td><td>1994.0000000</td><td>   9.0000000</td><td>   6.0000000</td><td>   1.0000000</td><td>   0.6666667</td></tr>\n",
       "\t<tr><th scope=row>5</th><td>1995.0000000</td><td>2004.0000000</td><td>   7.0000000</td><td>   6.0000000</td><td>   0.7777778</td><td>   0.6666667</td></tr>\n",
       "\t<tr><th scope=row>6</th><td>2005.0000000</td><td>2014.0000000</td><td>   9.0000000</td><td>   4.0000000</td><td>   1.0000000</td><td>   0.4444444</td></tr>\n",
       "\t<tr><th scope=row>7</th><td>1955.0000000</td><td>2014.0000000</td><td>  43.0000000</td><td>  31.0000000</td><td>   0.7288136</td><td>   0.5254237</td></tr>\n",
       "</tbody>\n",
       "</table>\n"
      ],
      "text/latex": [
       "\\begin{tabular}{r|llllll}\n",
       "  & start & end & topn & bottomn & l\\_topn & l\\_bottomn\\\\\n",
       "\\hline\n",
       "\t1 & 1955.0000000 & 1964.0000000 &    8.0000000 &    5.0000000 &    0.8888889 &    0.5555556\\\\\n",
       "\t2 & 1965.0000000 & 1974.0000000 &    4.0000000 &    7.0000000 &    0.4444444 &    0.7777778\\\\\n",
       "\t3 & 1975.0000000 & 1984.0000000 &    6.0000000 &    5.0000000 &    0.6666667 &    0.5555556\\\\\n",
       "\t4 & 1985.0000000 & 1994.0000000 &    9.0000000 &    6.0000000 &    1.0000000 &    0.6666667\\\\\n",
       "\t5 & 1995.0000000 & 2004.0000000 &    7.0000000 &    6.0000000 &    0.7777778 &    0.6666667\\\\\n",
       "\t6 & 2005.0000000 & 2014.0000000 &    9.0000000 &    4.0000000 &    1.0000000 &    0.4444444\\\\\n",
       "\t7 & 1955.0000000 & 2014.0000000 &   43.0000000 &   31.0000000 &    0.7288136 &    0.5254237\\\\\n",
       "\\end{tabular}\n"
      ],
      "text/plain": [
       "  start  end topn bottomn    l_topn l_bottomn\n",
       "1  1955 1964    8       5 0.8888889 0.5555556\n",
       "2  1965 1974    4       7 0.4444444 0.7777778\n",
       "3  1975 1984    6       5 0.6666667 0.5555556\n",
       "4  1985 1994    9       6 1.0000000 0.6666667\n",
       "5  1995 2004    7       6 0.7777778 0.6666667\n",
       "6  2005 2014    9       4 1.0000000 0.4444444\n",
       "7  1955 2014   43      31 0.7288136 0.5254237"
      ]
     },
     "metadata": {},
     "output_type": "display_data"
    }
   ],
   "source": [
    "#FUNCTION -- calculates the likelihood of finishing top of the table, having the best record against the topn and \n",
    "#bottomn teams seperately\n",
    "getVictoryLikelihood <- function(year1,year2,topn,bottomn)\n",
    "{\n",
    "    df_res <-top4PointPerGameTopAndBottomN(seq(year1,year2),topn,bottomn)\n",
    "    df_res <- df_res %>% \n",
    "    group_by(season) %>% \n",
    "    mutate(maxPPGT = max(PPGT)) %>%\n",
    "    mutate(maxPPGB = max(PPGB))\n",
    "    df_resPPGT <- df_res %>% \n",
    "    filter(maxPPGT == PPGT & position == 1)\n",
    "    df_resPPGB <- df_res %>% \n",
    "    filter(maxPPGB == PPGB & position == 1)\n",
    "    totals <- list(length(df_resPPGT$position),length(df_resPPGB$position))\n",
    "    return(totals)\n",
    "}\n",
    "\n",
    "#The above function implemented between years 1955-2014 on a 10 year scale & overall\n",
    "#l_top and l_bottom in df are likelihood of finishing first given best performance against top half & bottom half.\n",
    "x1 <- getVictoryLikelihood(1955,1964,11,11)\n",
    "x2 <- getVictoryLikelihood(1965,1974,11,11)\n",
    "x3 <- getVictoryLikelihood(1975,1984,11,11)\n",
    "x4 <- getVictoryLikelihood(1985,1994,11,11)\n",
    "x5 <- getVictoryLikelihood(1995,2004,10,10)\n",
    "x6 <- getVictoryLikelihood(2005,2014,10,10)\n",
    "x7 <- getVictoryLikelihood(1955,2014,10,10)\n",
    "\n",
    "df <- data.frame(start = c(1955,1965,1975,1985,1995,2005,1955),\n",
    "                           end = c(1964,1974,1984,1994,2004,2014,2014))\n",
    "df[\"topn\"] <- c(x1[[1]],x2[[1]],x3[[1]],x4[[1]],x5[[1]],x6[[1]],x7[[1]])\n",
    "df[\"bottomn\"] <- c(x1[[2]],x2[[2]],x3[[2]],x4[[2]],x5[[2]],x6[[2]],x7[[2]])\n",
    "df <- df %>% mutate(l_topn = topn/(end - start)) %>%  mutate(l_bottomn = bottomn/(end-start))\n",
    "df"
   ]
  },
  {
   "cell_type": "markdown",
   "metadata": {},
   "source": [
    "As we see, the overall statistics, _in our example_, seem to suggest that performance against the top half are more likely to predict the winner of the league; with average likelihoods of 72% and 52% respectively between 1955 and 2014. \n",
    "\n",
    "No strong statistical results maybe derived from the results as yet, as the research here is premature, and is just an example. Although, further work could include testing this on different time period intervals applying advanced statistical methods to perhaps get more meaningful, and publish-able results. The work could be reproduced to other major European leagues as well, using the wonderful datasets available as a part of the engsoccerdata package."
   ]
  },
  {
   "cell_type": "code",
   "execution_count": null,
   "metadata": {
    "collapsed": true
   },
   "outputs": [],
   "source": []
  }
 ],
 "metadata": {
  "kernelspec": {
   "display_name": "R",
   "language": "R",
   "name": "ir"
  },
  "language_info": {
   "codemirror_mode": "r",
   "file_extension": ".r",
   "mimetype": "text/x-r-source",
   "name": "R",
   "pygments_lexer": "r",
   "version": "3.3.1"
  }
 },
 "nbformat": 4,
 "nbformat_minor": 0
}
